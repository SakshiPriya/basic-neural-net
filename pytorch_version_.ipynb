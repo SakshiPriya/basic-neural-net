{
  "nbformat": 4,
  "nbformat_minor": 0,
  "metadata": {
    "colab": {
      "name": "pytorch version .ipynb",
      "version": "0.3.2",
      "provenance": [],
      "collapsed_sections": [],
      "include_colab_link": true
    }
  },
  "cells": [
    {
      "cell_type": "markdown",
      "metadata": {
        "id": "view-in-github",
        "colab_type": "text"
      },
      "source": [
        "[View in Colaboratory](https://colab.research.google.com/github/SakshiPriya/basic-neural-net/blob/master/pytorch_version_.ipynb)"
      ]
    },
    {
      "metadata": {
        "id": "0xcnuSsr-2m-",
        "colab_type": "code",
        "colab": {
          "base_uri": "https://localhost:8080/",
          "height": 138
        },
        "outputId": "cada0d66-e3fc-48f7-d68e-472883732fa8"
      },
      "cell_type": "code",
      "source": [
        "!pip install torch"
      ],
      "execution_count": 1,
      "outputs": [
        {
          "output_type": "stream",
          "text": [
            "Collecting torch\n",
            "\u001b[?25l  Downloading https://files.pythonhosted.org/packages/06/a7/6a173738dd6be014ebf9ba6f0b441d91b113b1506a98e10da4ff60994b54/torch-0.4.1-cp27-cp27mu-manylinux1_x86_64.whl (519.5MB)\n",
            "\u001b[K    100% |████████████████████████████████| 519.5MB 15kB/s \n",
            "tcmalloc: large alloc 1073750016 bytes == 0x562b5f448000 @  0x7f80d4e7f1c4 0x562b05cbb0d8 0x562b05da4d5d 0x562b05cce77a 0x562b05cd3462 0x562b05ccbb3a 0x562b05cd382e 0x562b05ccbb3a 0x562b05cd382e 0x562b05ccbb3a 0x562b05cd382e 0x562b05ccbb3a 0x562b05cd3e1f 0x562b05ccbb3a 0x562b05cd382e 0x562b05ccbb3a 0x562b05cd382e 0x562b05cd3462 0x562b05cd3462 0x562b05ccbb3a 0x562b05cd3e1f 0x562b05cd3462 0x562b05ccbb3a 0x562b05cd3e1f 0x562b05ccbb3a 0x562b05cd3e1f 0x562b05ccbb3a 0x562b05cd382e 0x562b05ccbb3a 0x562b05cfc50f 0x562b05cf7202\n",
            "\u001b[?25hInstalling collected packages: torch\n",
            "Successfully installed torch-0.4.1\n"
          ],
          "name": "stdout"
        }
      ]
    },
    {
      "metadata": {
        "id": "4v6tmswQ-7MP",
        "colab_type": "code",
        "colab": {
          "base_uri": "https://localhost:8080/",
          "height": 34
        },
        "outputId": "a9de119f-f9ba-42a6-cb83-0930f22abffe"
      },
      "cell_type": "code",
      "source": [
        "import torch\n",
        "import matplotlib.pyplot as plt\n",
        "\n",
        "#parametrs\n",
        "\n",
        "\n",
        "layers=3\n",
        "batch_size=1000\n",
        "input_feature=100\n",
        "l1_neurno=50\n",
        "l2_neurno=25\n",
        "l3_neurno=1\n",
        "num_epoch=1300\n",
        "lr_rate=0.01\n",
        "loss=[]\n",
        "\n",
        "\n",
        "#input,output,weight initialization\n",
        "Z=torch.randint(1,100,(input_feature,batch_size))\n",
        "Y=torch.randint(0,2,(l3_neurno,batch_size))\n",
        "W1=torch.rand(l1_neurno,input_feature)\n",
        "W2=torch.rand(l2_neurno,l1_neurno)\n",
        "W3=torch.rand(l3_neurno,l2_neurno)\n",
        "\n",
        "\n",
        "# functions\n",
        "def normalize(Z):\n",
        "   sh=Z.size()[0]\n",
        "   mu=Z.mean(dim=1).view(sh,1)\n",
        "   z=Z-mu\n",
        "   std=z.std(dim=1).view(sh,1)\n",
        "   Z=z/std\n",
        "   return Z\n",
        "\n",
        "for epoch in range(num_epoch):\n",
        "    #forwardpass\n",
        "\n",
        "    L1=W1.mm(normalize(Z))\n",
        "    Z1=normalize(L1).clamp(min=0)\n",
        "    L2=W2.mm(Z1)\n",
        "    Z2=normalize(L2).clamp(min=0)\n",
        "    L3=W3.mm(Z2)\n",
        "    Ypred=torch.sigmoid(normalize(L3))\n",
        "                             \n",
        "     #finding loss\n",
        "    Loss=-(Y.mm(torch.log(Ypred.t()))+(1-Y).mm(torch.log(1-Ypred.t())))\n",
        "    Loss=Loss/batch_size\n",
        "    loss.append(Loss)\n",
        "     #finding gradient\n",
        "    dL3=Ypred-Y\n",
        "    dW3=dL3.mm(Z2.t())\n",
        "    dZ2=(W3.t()).mm(dL3)\n",
        "    dL2=dZ2.clone()\n",
        "    dL2[L2<0]=0\n",
        "    dW2=dL2.mm(Z1.t())\n",
        "    dZ1=(W2.t()).mm(dL2)\n",
        "    dL1=dZ1.clone()\n",
        "    dL1[L1<0]=0\n",
        "    dW1=dL1.mm(Z.t())\n",
        "    \n",
        "         \n",
        "     #weight update\n",
        "    W1=W1-lr_rate*dW1\n",
        "    W2=W2-lr_rate*dW2\n",
        "    W3=W3-lr_rate*dW3\n",
        "     \n",
        "     \n",
        "print(Loss)    \n"
      ],
      "execution_count": 5,
      "outputs": [
        {
          "output_type": "stream",
          "text": [
            "tensor([[0.4380]])\n"
          ],
          "name": "stdout"
        }
      ]
    },
    {
      "metadata": {
        "id": "-AlHWjJ5Ya3V",
        "colab_type": "code",
        "colab": {
          "base_uri": "https://localhost:8080/",
          "height": 347
        },
        "outputId": "5ba5e9a1-3913-4f0d-c78c-75096caf924b"
      },
      "cell_type": "code",
      "source": [
        "plt.figure()\n",
        "plt.plot(loss)\n",
        "plt.show()"
      ],
      "execution_count": 6,
      "outputs": [
        {
          "output_type": "display_data",
          "data": {
            "image/png": "[encoded data removed]",
            "text/plain": [
              "<matplotlib.figure.Figure at 0x7fdebcb86050>"
            ]
          },
          "metadata": {
            "tags": []
          }
        }
      ]
    },
    {
      "metadata": {
        "id": "_RTLlEknZLbs",
        "colab_type": "code",
        "colab": {
          "base_uri": "https://localhost:8080/",
          "height": 34
        },
        "outputId": "11b7c5cc-f676-412f-ae0d-988cccf4953c"
      },
      "cell_type": "code",
      "source": [
        "def test(n):\n",
        "  Z=torch.randint(1,100,(input_feature,n))\n",
        "  Y=torch.randint(0,2,(l3_neurno,n))\n",
        "  L1=W1.mm(normalize(Z))\n",
        "  Z1=normalize(L1).clamp(min=0)\n",
        "  L2=W2.mm(Z1)\n",
        "  Z2=normalize(L2).clamp(min=0)\n",
        "  L3=W3.mm(Z2)\n",
        "  Ypred=torch.sigmoid(normalize(L3))\n",
        "  print('Y:',Y,'Ypred:',torch.round(Ypred))\n",
        "  \n",
        "  \n",
        "test(10)"
      ],
      "execution_count": 7,
      "outputs": [
        {
          "output_type": "stream",
          "text": [
            "('Y:', tensor([[1., 0., 1., 0., 0., 1., 0., 1., 1., 0.]]), 'Ypred:', tensor([[0., 0., 1., 1., 0., 0., 1., 1., 1., 0.]]))\n"
          ],
          "name": "stdout"
        }
      ]
    }
  ]
}