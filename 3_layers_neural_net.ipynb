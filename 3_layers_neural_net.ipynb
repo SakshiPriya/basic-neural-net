{
  "nbformat": 4,
  "nbformat_minor": 0,
  "metadata": {
    "colab": {
      "name": "3 layers neural net.ipynb",
      "version": "0.3.2",
      "provenance": [],
      "collapsed_sections": [],
      "include_colab_link": true
    }
  },
  "cells": [
    {
      "cell_type": "markdown",
      "metadata": {
        "id": "view-in-github",
        "colab_type": "text"
      },
      "source": [
        "[View in Colaboratory](https://colab.research.google.com/github/SakshiPriya/basic-neural-net/blob/master/3_layers_neural_net.ipynb)"
      ]
    },
    {
      "metadata": {
        "id": "diicTIRXjyVb",
        "colab_type": "code",
        "colab": {
          "base_uri": "https://localhost:8080/",
          "height": 34
        },
        "outputId": "0b5f659a-abe3-4a86-ef95-2d67d04fea11"
      },
      "cell_type": "code",
      "source": [
        "import numpy as np\n",
        "import matplotlib.pyplot as plt\n",
        "np.random.seed(50)\n",
        "\n",
        "#parametrs\n",
        "layers=3\n",
        "batch_size=1000\n",
        "input_feature=100\n",
        "l1_neurno=120\n",
        "l2_neurno=60\n",
        "l3_neurno=1\n",
        "num_epoch=800\n",
        "lr_rate=0.1\n",
        "\n",
        "#input,output,weight initialization\n",
        "Z=np.random.randint(1,100,size=(input_feature,batch_size))\n",
        "Y=np.random.randint(0,2,size=(l3_neurno,batch_size))\n",
        "W1=np.random.random((l1_neurno,input_feature))\n",
        "W2=np.random.random((l2_neurno,l1_neurno))\n",
        "W3=np.random.random((l3_neurno,l2_neurno))\n",
        "loss=[]\n",
        "\n",
        "# functions\n",
        "def normalize(Z):\n",
        "   sh=Z.shape[0]\n",
        "   mu=Z.mean(axis=1).reshape(sh,1)\n",
        "   z=Z-mu\n",
        "   var=np.square(z).mean(axis=1).reshape(sh,1)\n",
        "   std=np.sqrt(var)\n",
        "   Z=z/std\n",
        "   return Z\n",
        "\n",
        "for epoch in range(num_epoch):\n",
        "  \n",
        "    #forwardpass\n",
        "     L1=np.dot(W1,normalize(Z))\n",
        "     Z1=np.maximum(normalize(L1),0)\n",
        "     L2=np.dot(W2,Z1)\n",
        "     Z2=np.maximum(normalize(L2),0)\n",
        "     L3=np.dot(W3,Z2)\n",
        "     Ypred=1/(1+np.exp(-normalize(L3)))\n",
        "     \n",
        "                             \n",
        "     #finding loss\n",
        "     Loss=-(Y.dot(np.log(Ypred.T))+(1-Y).dot(np.log(1-Ypred.T)))\n",
        "     Loss=Loss/batch_size\n",
        "     loss.append(Loss)\n",
        "      \n",
        "     #finding gradient\n",
        "     dL3=Ypred-Y\n",
        "     dW3=dL3.dot(Z2.T)\n",
        "     dZ2=(W3.T).dot(dL3)\n",
        "     dL2=dZ2.copy()\n",
        "     dL2[L2<0]=0\n",
        "     dW2=dL2.dot(Z1.T)\n",
        "     dZ1=(W2.T).dot(dL2)\n",
        "     dL1=dZ1.copy()\n",
        "     dL1[L1<0]=0\n",
        "     dW1=dL1.dot(Z.T)\n",
        "     \n",
        "     \n",
        "    \n",
        "     #weight update\n",
        "     W1=W1-lr_rate*dW1\n",
        "     W2=W2-lr_rate*dW2\n",
        "     W3=W3-lr_rate*dW3\n",
        "     \n",
        "                             \n",
        "print(Loss)    \n",
        "loss=np.array(loss)\n",
        "loss=loss.reshape(loss.shape[0])\n",
        "\n",
        "\n",
        "\n",
        "     "
      ],
      "execution_count": 97,
      "outputs": [
        {
          "output_type": "stream",
          "text": [
            "[[0.40017793]]\n"
          ],
          "name": "stdout"
        }
      ]
    },
    {
      "metadata": {
        "id": "1zuRqvXwt84L",
        "colab_type": "code",
        "colab": {
          "base_uri": "https://localhost:8080/",
          "height": 347
        },
        "outputId": "e571437a-3a00-4f4b-ecbf-b039c8795a87"
      },
      "cell_type": "code",
      "source": [
        "plt.figure()\n",
        "plt.plot(loss)\n",
        "plt.show()\n",
        "\n"
      ],
      "execution_count": 98,
      "outputs": [
        {
          "output_type": "display_data",
          "data": {
            "image/png": "[encoded data removed]",
            "text/plain": [
              "<matplotlib.figure.Figure at 0x7f7a114c8590>"
            ]
          },
          "metadata": {
            "tags": []
          }
        }
      ]
    },
    {
      "metadata": {
        "id": "mGBHYlgv_VMq",
        "colab_type": "code",
        "colab": {
          "base_uri": "https://localhost:8080/",
          "height": 34
        },
        "outputId": "4d1b5c56-a5bb-4864-ec72-d507c34b1c0b"
      },
      "cell_type": "code",
      "source": [
        "def test(n):\n",
        "  K=np.random.randint(1,100,size=(input_feature,n))\n",
        "  Y=np.random.randint(0,2,size=(l3_neurno,n))\n",
        "  L1=np.dot(W1,normalize(K))\n",
        "  Z1=np.maximum(normalize(L1),0)\n",
        "  L2=np.dot(W2,Z1)\n",
        "  Z2=np.maximum(normalize(L2),0)\n",
        "  L3=np.dot(W3,Z2)\n",
        "  Ypred=1/(1+np.exp(-normalize(L3)))\n",
        "  print('Y:',Y,'Ypred:',np.round(Ypred))\n",
        "  \n",
        "  \n",
        "test(10)"
      ],
      "execution_count": 99,
      "outputs": [
        {
          "output_type": "stream",
          "text": [
            "('Y:', array([[1, 0, 1, 0, 0, 1, 1, 0, 1, 1]]), 'Ypred:', array([[0., 1., 1., 1., 1., 0., 0., 1., 0., 1.]]))\n"
          ],
          "name": "stdout"
        }
      ]
    }
  ]
}