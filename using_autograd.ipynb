{
  "nbformat": 4,
  "nbformat_minor": 0,
  "metadata": {
    "colab": {
      "name": "using_autograd.ipynb",
      "version": "0.3.2",
      "provenance": [],
      "include_colab_link": true
    }
  },
  "cells": [
    {
      "cell_type": "markdown",
      "metadata": {
        "id": "view-in-github",
        "colab_type": "text"
      },
      "source": [
        "[View in Colaboratory](https://colab.research.google.com/github/SakshiPriya/basic-neural-net/blob/master/using_autograd.ipynb)"
      ]
    },
    {
      "metadata": {
        "id": "kEBDD5OGamGx",
        "colab_type": "code",
        "colab": {
          "base_uri": "https://localhost:8080/",
          "height": 34
        },
        "outputId": "006354bf-3c6a-4e80-fefc-d35096c22dda"
      },
      "cell_type": "code",
      "source": [
        "!pip install torch"
      ],
      "execution_count": 1,
      "outputs": [
        {
          "output_type": "stream",
          "text": [
            "Requirement already satisfied: torch in /usr/local/lib/python2.7/dist-packages (0.4.1)\r\n"
          ],
          "name": "stdout"
        }
      ]
    },
    {
      "metadata": {
        "id": "dE0LXoU9YZjQ",
        "colab_type": "code",
        "colab": {}
      },
      "cell_type": "code",
      "source": [
        "import torch\n",
        "import matplotlib.pyplot as plt\n",
        "\n",
        "#parametrs\n",
        "layers=3\n",
        "batch_size=1000\n",
        "input_feature=100\n",
        "l1_neurno=50\n",
        "l2_neurno=25\n",
        "l3_neurno=1\n",
        "num_epoch=1300\n",
        "lr_rate=0.01\n",
        "if torch.cuda.is_available():\n",
        "   processor=\"cuda\"\n",
        "else:\n",
        "   processor=\"cpu\"\n",
        "    \n",
        "device=torch.device(processor)\n",
        "\n",
        "#input,output,weight initialization\n",
        "Z=torch.randint(1,100,(input_feature,batch_size),device=device)\n",
        "Y=torch.randint(0,2,(l3_neurno,batch_size),device=device)\n",
        "W1=torch.rand(l1_neurno,input_feature,device=device,requires_grad=True)\n",
        "W2=torch.rand(l2_neurno,l1_neurno,device=device,requires_grad=True)\n",
        "W3=torch.rand(l3_neurno,l2_neurno,device=device,requires_grad=True)\n",
        "loss=[]\n",
        "# functions\n",
        "def normalize(Z):\n",
        "   sh=Z.size()[0]\n",
        "   mu=Z.mean(dim=1).view(sh,1)\n",
        "   z=Z-mu\n",
        "   std=z.std(dim=1).view(sh,1)\n",
        "   Z=z/std\n",
        "   return Z\n",
        "\n",
        "for epoch in range(num_epoch):\n",
        "    #forwardpass\n",
        "    \n",
        "    Ypred=torch.sigmoid(normalize(W3.mm(normalize(W2.mm(normalize(W1.mm(normalize(Z))).clamp(min=0))).clamp(min=0))))\n",
        "  \n",
        "                             \n",
        "     #finding loss\n",
        "    Loss=-(Y.mm(torch.log(Ypred.t()))+(1-Y).mm(torch.log(1-Ypred.t())))\n",
        "    Loss.backward()\n",
        "    loss.append(Loss/batch_size)\n",
        "    with torch.no_grad():\n",
        "     #weight update\n",
        "      \n",
        "       W1-=lr_rate*(W1.grad)\n",
        "       W2-=lr_rate*(W2.grad)\n",
        "       W3-=lr_rate*(W3.grad)\n",
        "       W1.grad.zero_()\n",
        "       W2.grad.zero_()\n",
        "       W3.grad.zero_()\n",
        "                        \n"
      ],
      "execution_count": 0,
      "outputs": []
    },
    {
      "metadata": {
        "id": "kPlpWU7ni5qu",
        "colab_type": "code",
        "colab": {
          "base_uri": "https://localhost:8080/",
          "height": 347
        },
        "outputId": "c37daee0-11c9-4319-f076-3b8fa87994a8"
      },
      "cell_type": "code",
      "source": [
        "plt.figure()\n",
        "plt.plot(loss)\n",
        "plt.show()"
      ],
      "execution_count": 28,
      "outputs": [
        {
          "output_type": "display_data",
          "data": {
            "image/png": "[encoded data removed]",
            "text/plain": [
              "<matplotlib.figure.Figure at 0x7fbe1b578290>"
            ]
          },
          "metadata": {
            "tags": []
          }
        }
      ]
    },
    {
      "metadata": {
        "id": "6KmYEtGQjOYa",
        "colab_type": "code",
        "colab": {
          "base_uri": "https://localhost:8080/",
          "height": 54
        },
        "outputId": "9cbcabaa-52aa-45d9-e6a6-d55bc6de97e9"
      },
      "cell_type": "code",
      "source": [
        "def test(n):\n",
        "  Z=torch.randint(1,100,(input_feature,n))\n",
        "  Y=torch.randint(0,2,(l3_neurno,n))\n",
        "  L1=W1.mm(normalize(Z))\n",
        "  Z1=normalize(L1).clamp(min=0)\n",
        "  L2=W2.mm(Z1)\n",
        "  Z2=normalize(L2).clamp(min=0)\n",
        "  L3=W3.mm(Z2)\n",
        "  Ypred=torch.sigmoid(normalize(L3))\n",
        "  print('Y:',Y,'Ypred:',torch.round(Ypred))\n",
        "  \n",
        "  \n",
        "test(10)"
      ],
      "execution_count": 29,
      "outputs": [
        {
          "output_type": "stream",
          "text": [
            "('Y:', tensor([[1., 1., 0., 0., 1., 0., 0., 0., 1., 1.]]), 'Ypred:', tensor([[1., 1., 0., 0., 0., 0., 0., 0., 1., 1.]], grad_fn=<RoundBackward>))\n"
          ],
          "name": "stdout"
        }
      ]
    }
  ]
}